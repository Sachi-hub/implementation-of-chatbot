{
 "cells": [
  {
   "cell_type": "code",
   "execution_count": 14,
   "metadata": {},
   "outputs": [
    {
     "name": "stderr",
     "output_type": "stream",
     "text": [
      "[nltk_data] Downloading package punkt to\n",
      "[nltk_data]     C:\\Users\\hp\\AppData\\Roaming\\nltk_data...\n",
      "[nltk_data]   Package punkt is already up-to-date!\n"
     ]
    },
    {
     "data": {
      "text/plain": [
       "True"
      ]
     },
     "execution_count": 14,
     "metadata": {},
     "output_type": "execute_result"
    }
   ],
   "source": [
    "import os\n",
    "import nltk\n",
    "import ssl\n",
    "import streamlit as st\n",
    "import random\n",
    "from sklearn.feature_extraction.text import TfidfVectorizer\n",
    "from sklearn.linear_model import LogisticRegression\n",
    "from sklearn.preprocessing import LabelEncoder\n",
    "\n",
    "# Fix SSL context issues for nltk downloads\n",
    "ssl._create_default_https_context = ssl._create_unverified_context\n",
    "nltk.data.path.append(os.path.abspath(\"nltk_data\"))\n",
    "nltk.download('punkt')"
   ]
  },
  {
   "cell_type": "code",
   "execution_count": 15,
   "metadata": {},
   "outputs": [],
   "source": [
    "intents = [\n",
    "    {\n",
    "        \"tag\": \"greeting\",\n",
    "        \"patterns\": [\n",
    "            \"Hi\", \"Hello\", \"Hey\", \"Good morning\", \"Good afternoon\",\n",
    "            \"Good evening\", \"How are you?\", \"Is anyone there?\",\n",
    "            \"What's up?\", \"Hi chatbot\"\n",
    "        ],\n",
    "        \"responses\": [\n",
    "            \"Hello! Welcome to City Hospital. How can I assist you today?\",\n",
    "            \"Hi there! I'm here to provide any information you need. How can I help?\",\n",
    "            \"Good day! How may I assist you with your hospital-related queries?\",\n",
    "            \"Hey! Let me know if there's something I can assist with.\",\n",
    "            \"Welcome to City Hospital. What can I do for you?\"\n",
    "        ]\n",
    "    },\n",
    "    {\n",
    "        \"tag\": \"appointment\",\n",
    "        \"patterns\": [\n",
    "            \"I want to book an appointment\", \"Can I schedule a visit?\",\n",
    "            \"Book a doctor\", \"Schedule an appointment\", \"I need to see a doctor\",\n",
    "            \"Can I check the availability of Dr. John?\", \"How do I make a doctor's appointment?\",\n",
    "            \"Who is available for cardiology today?\", \"I need to consult a pediatrician\",\n",
    "            \"Can I schedule a same-day appointment?\"\n",
    "        ],\n",
    "        \"responses\": [\n",
    "            \"Of course! Please let me know the doctor's name, the preferred time, and your details to book an appointment.\",\n",
    "            \"Sure! You can book an appointment by providing your contact information, the doctor you wish to consult, and the time that works for you.\",\n",
    "            \"Dr. John is available today from 2 PM to 5 PM. Shall I book your appointment?\",\n",
    "            \"To schedule an appointment, you can visit our online booking portal or share the details here.\",\n",
    "            \"Same-day appointments are possible depending on the availability of the doctor. Let me check for you.\"\n",
    "        ]\n",
    "    },\n",
    "]\n"
   ]
  },
  {
   "cell_type": "code",
   "execution_count": 16,
   "metadata": {},
   "outputs": [
    {
     "name": "stdout",
     "output_type": "stream",
     "text": [
      "Predicted tag: appointment\n"
     ]
    }
   ],
   "source": [
    "# Create the vectorizer and classifier\n",
    "vectorizer = TfidfVectorizer()\n",
    "clf = LogisticRegression(random_state=0, max_iter=30000)\n",
    "\n",
    "# Preprocess the data\n",
    "tags = []\n",
    "patterns = []\n",
    "for intent in intents:\n",
    "    for pattern in intent['patterns']:\n",
    "        tags.append(intent['tag'])\n",
    "        patterns.append(pattern)\n",
    "\n",
    "# Encode tags into numerical labels\n",
    "encoder = LabelEncoder()\n",
    "encoded_tags = encoder.fit_transform(tags)\n",
    "\n",
    "# Train the model\n",
    "x = vectorizer.fit_transform(patterns)\n",
    "y = encoded_tags\n",
    "clf.fit(x, y)\n",
    "\n",
    "# Example usage: predicting a tag\n",
    "test_input = \"Can I book a doctor?\"\n",
    "test_vector = vectorizer.transform([test_input])\n",
    "predicted_tag = encoder.inverse_transform(clf.predict(test_vector))[0]\n",
    "\n",
    "print(f\"Predicted tag: {predicted_tag}\")"
   ]
  },
  {
   "cell_type": "code",
   "execution_count": 17,
   "metadata": {},
   "outputs": [],
   "source": [
    "def chatbot(input_text):\n",
    "    input_text = vectorizer.transform([input_text])\n",
    "    tag = clf.predict(input_text)[0]\n",
    "    for intent in intents:\n",
    "        if intent['tag'] == tag:\n",
    "            response = random.choice(intent['responses'])\n",
    "            return response"
   ]
  },
  {
   "cell_type": "code",
   "execution_count": 18,
   "metadata": {},
   "outputs": [
    {
     "name": "stderr",
     "output_type": "stream",
     "text": [
      "2024-12-05 17:29:22.676 WARNING streamlit.runtime.scriptrunner_utils.script_run_context: Thread 'MainThread': missing ScriptRunContext! This warning can be ignored when running in bare mode.\n",
      "2024-12-05 17:29:23.109 \n",
      "  \u001b[33m\u001b[1mWarning:\u001b[0m to view this Streamlit app on a browser, run it with the following\n",
      "  command:\n",
      "\n",
      "    streamlit run C:\\Users\\hp\\AppData\\Roaming\\Python\\Python311\\site-packages\\ipykernel_launcher.py [ARGUMENTS]\n",
      "2024-12-05 17:29:23.109 Thread 'MainThread': missing ScriptRunContext! This warning can be ignored when running in bare mode.\n",
      "2024-12-05 17:29:23.109 Thread 'MainThread': missing ScriptRunContext! This warning can be ignored when running in bare mode.\n",
      "2024-12-05 17:29:23.124 Thread 'MainThread': missing ScriptRunContext! This warning can be ignored when running in bare mode.\n",
      "2024-12-05 17:29:23.125 Thread 'MainThread': missing ScriptRunContext! This warning can be ignored when running in bare mode.\n",
      "2024-12-05 17:29:23.126 Thread 'MainThread': missing ScriptRunContext! This warning can be ignored when running in bare mode.\n",
      "2024-12-05 17:29:23.126 Thread 'MainThread': missing ScriptRunContext! This warning can be ignored when running in bare mode.\n",
      "2024-12-05 17:29:23.126 Thread 'MainThread': missing ScriptRunContext! This warning can be ignored when running in bare mode.\n",
      "2024-12-05 17:29:23.126 Thread 'MainThread': missing ScriptRunContext! This warning can be ignored when running in bare mode.\n",
      "2024-12-05 17:29:23.126 Thread 'MainThread': missing ScriptRunContext! This warning can be ignored when running in bare mode.\n",
      "2024-12-05 17:29:23.126 Session state does not function when running a script without `streamlit run`\n",
      "2024-12-05 17:29:23.126 Thread 'MainThread': missing ScriptRunContext! This warning can be ignored when running in bare mode.\n",
      "2024-12-05 17:29:23.126 Thread 'MainThread': missing ScriptRunContext! This warning can be ignored when running in bare mode.\n"
     ]
    }
   ],
   "source": [
    "counter = 0\n",
    "\n",
    "def main():\n",
    "    global counter\n",
    "    st.title(\"Chatbot\")\n",
    "    st.write(\"Welcome to the chatbot. Please type a message and press Enter to start the conversation.\")\n",
    "\n",
    "    counter += 1\n",
    "    user_input = st.text_input(\"You:\", key=f\"user_input_{counter}\")\n",
    "\n",
    "    if user_input:\n",
    "        response = chatbot(user_input)\n",
    "        st.text_area(\"Chatbot:\", value=response, height=100, max_chars=None, key=f\"chatbot_response_{counter}\")\n",
    "\n",
    "        if response.lower() in ['goodbye', 'bye']:\n",
    "            st.write(\"Thank you for chatting with me. Have a great day!\")\n",
    "            st.stop()\n",
    "\n",
    "if __name__ == '__main__':\n",
    "    main()"
   ]
  },
  {
   "cell_type": "code",
   "execution_count": null,
   "metadata": {},
   "outputs": [],
   "source": []
  }
 ],
 "metadata": {
  "kernelspec": {
   "display_name": "Python 3",
   "language": "python",
   "name": "python3"
  },
  "language_info": {
   "codemirror_mode": {
    "name": "ipython",
    "version": 3
   },
   "file_extension": ".py",
   "mimetype": "text/x-python",
   "name": "python",
   "nbconvert_exporter": "python",
   "pygments_lexer": "ipython3",
   "version": "3.11.5"
  }
 },
 "nbformat": 4,
 "nbformat_minor": 2
}
